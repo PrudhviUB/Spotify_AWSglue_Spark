{
	"metadata": {
		"kernelspec": {
			"name": "glue_pyspark",
			"display_name": "Glue PySpark",
			"language": "python"
		},
		"language_info": {
			"name": "Python_Glue_Session",
			"mimetype": "text/x-python",
			"codemirror_mode": {
				"name": "python",
				"version": 3
			},
			"pygments_lexer": "python3",
			"file_extension": ".py"
		}
	},
	"nbformat_minor": 4,
	"nbformat": 4,
	"cells": [
		{
			"cell_type": "code",
			"source": "%idle_timeout 2880\n%glue_version 5.0\n%worker_type G.1X\n%number_of_workers 5\n\nimport sys\nfrom awsglue.transforms import *\nfrom awsglue.utils import getResolvedOptions\nfrom pyspark.context import SparkContext\nfrom awsglue.context import GlueContext\nfrom awsglue.job import Job\n  \nsc = SparkContext.getOrCreate()\nglueContext = GlueContext(sc)\nspark = glueContext.spark_session\njob = Job(glueContext)",
			"metadata": {
				"trusted": true,
				"editable": true
			},
			"execution_count": 1,
			"outputs": [
				{
					"name": "stdout",
					"text": "Welcome to the Glue Interactive Sessions Kernel\nFor more information on available magic commands, please type %help in any new cell.\n\nPlease view our Getting Started page to access the most up-to-date information on the Interactive Sessions kernel: https://docs.aws.amazon.com/glue/latest/dg/interactive-sessions.html\nInstalled kernel version: 1.0.8 \nCurrent idle_timeout is None minutes.\nidle_timeout has been set to 2880 minutes.\nSetting Glue version to: 5.0\nPrevious worker type: None\nSetting new worker type to: G.1X\nPrevious number of workers: None\nSetting new number of workers to: 5\nTrying to create a Glue session for the kernel.\nSession Type: glueetl\nWorker Type: G.1X\nNumber of Workers: 5\nIdle Timeout: 2880\nSession ID: 4ba1145a-92e9-4073-ae50-d3c791b0145c\nApplying the following default arguments:\n--glue_kernel_version 1.0.8\n--enable-glue-datacatalog true\nWaiting for session 4ba1145a-92e9-4073-ae50-d3c791b0145c to get into ready status...\nSession 4ba1145a-92e9-4073-ae50-d3c791b0145c has been created.\n\n",
					"output_type": "stream"
				}
			]
		},
		{
			"cell_type": "code",
			"source": "from pyspark.sql.functions import *\nfrom datetime import datetime\nfrom awsglue.dynamicframe import DynamicFrame",
			"metadata": {
				"trusted": true,
				"tags": []
			},
			"execution_count": 34,
			"outputs": [
				{
					"name": "stdout",
					"text": "\n",
					"output_type": "stream"
				}
			]
		},
		{
			"cell_type": "code",
			"source": "s3_path = \"s3://spotify-etl-pipeline-prudhvi/raw_data/to_processed/\"\nsource_dyf = glueContext.create_dynamic_frame_from_options(\n    connection_type=\"s3\",\n    format=\"json\",\n    connection_options={\"paths\": [s3_path]}\n)",
			"metadata": {
				"trusted": true,
				"tags": []
			},
			"execution_count": 8,
			"outputs": [
				{
					"name": "stdout",
					"text": "\n",
					"output_type": "stream"
				}
			]
		},
		{
			"cell_type": "code",
			"source": "spotify_df = source_dyf.toDF()",
			"metadata": {
				"trusted": true,
				"tags": []
			},
			"execution_count": 9,
			"outputs": [
				{
					"name": "stdout",
					"text": "\n",
					"output_type": "stream"
				}
			]
		},
		{
			"cell_type": "code",
			"source": "# spotify_df.show()",
			"metadata": {
				"trusted": true,
				"tags": []
			},
			"execution_count": 14,
			"outputs": [
				{
					"name": "stdout",
					"text": "+--------------------+--------------------+-----+----+------+--------+-----+\n|                href|               items|limit|next|offset|previous|total|\n+--------------------+--------------------+-----+----+------+--------+-----+\n|https://api.spoti...|[{2015-01-15T12:3...|  100|NULL|     0|    NULL|    5|\n+--------------------+--------------------+-----+----+------+--------+-----+\n",
					"output_type": "stream"
				}
			]
		},
		{
			"cell_type": "code",
			"source": "# df = spotify_df",
			"metadata": {
				"trusted": true,
				"tags": []
			},
			"execution_count": 10,
			"outputs": [
				{
					"name": "stdout",
					"text": "\n",
					"output_type": "stream"
				}
			]
		},
		{
			"cell_type": "code",
			"source": "# df.withColumn(\"items\", explode(\"items\")).select(\n#     col(\"items.track.album.id\").alias(\"album_id\"),\n#     col(\"items.track.album.name\").alias(\"album_name\"),\n#     col(\"items.track.album.release_date\").alias(\"release_date\"),\n#     col(\"items.track.album.total_tracks\").alias(\"total_tracks\"),\n#     col(\"items.track.album.external_urls.spotify\").alias(\"url\")\n# ).drop_duplicates(['album_id']).show()",
			"metadata": {
				"trusted": true,
				"tags": []
			},
			"execution_count": 15,
			"outputs": [
				{
					"name": "stdout",
					"text": "+--------------------+--------------------+------------+------------+--------------------+\n|            album_id|          album_name|release_date|total_tracks|                 url|\n+--------------------+--------------------+------------+------------+--------------------+\n|0ivM6kSawaug0j3tZ...|All The Best (Spa...|  2007-01-01|          18|https://open.spot...|\n|2pANdqPvxInB0YvcD...|Progressive Psy T...|  2012-04-02|          20|https://open.spot...|\n|2usKFntxa98WHMcyW...|Glenn Horiuchi Tr...|  2011-04-01|           8|https://open.spot...|\n|4hnqM0JK4CM1phwfq...|   This Is Happening|  2010-05-17|           9|https://open.spot...|\n|6nlfkk5GoXRL1nktl...|Wellness & Dreami...|  2015-01-09|          25|https://open.spot...|\n+--------------------+--------------------+------------+------------+--------------------+\n",
					"output_type": "stream"
				}
			]
		},
		{
			"cell_type": "code",
			"source": "# df_artist_exploded = df.select(explode(col(\"items\")).alias(\"items\")).select(explode(col(\"items.track.artists\")).alias(\"artists\"))",
			"metadata": {
				"trusted": true,
				"tags": []
			},
			"execution_count": 19,
			"outputs": [
				{
					"name": "stdout",
					"text": "\n",
					"output_type": "stream"
				}
			]
		},
		{
			"cell_type": "code",
			"source": "# df_artist_exploded.select(\n#     col(\"artists.id\").alias(\"artist_id\"),\n#     col(\"artists.name\").alias(\"artist_name\"),\n#     col(\"artists.external_urls.spotify\").alias(\"url\")\n# ).drop_duplicates(['artist_id']).show()",
			"metadata": {
				"trusted": true,
				"tags": []
			},
			"execution_count": 25,
			"outputs": [
				{
					"name": "stdout",
					"text": "+--------------------+-------------------+--------------------+\n|           artist_id|        artist_name|                 url|\n+--------------------+-------------------+--------------------+\n|066X20Nz7iquqkkCW...|    LCD Soundsystem|https://open.spot...|\n|272ArH9SUAlslQqsS...|Glenn Horiuchi Trio|https://open.spot...|\n|2KftmGt9sk1yLjsAo...|           Zucchero|https://open.spot...|\n|5VQE4WOzPu9h3HnGL...|       Vlasta Marek|https://open.spot...|\n|6eSdhw46riw2OUHgM...|             Odiseo|https://open.spot...|\n+--------------------+-------------------+--------------------+\n",
					"output_type": "stream"
				}
			]
		},
		{
			"cell_type": "code",
			"source": "# df_explode = df.select(explode(col(\"items\")).alias(\"item\"))",
			"metadata": {
				"trusted": true,
				"tags": []
			},
			"execution_count": 26,
			"outputs": [
				{
					"name": "stdout",
					"text": "\n",
					"output_type": "stream"
				}
			]
		},
		{
			"cell_type": "code",
			"source": "# df_explode.select(\n#     col(\"item.track.id\").alias(\"song_id\"),\n#     col(\"item.track.name\").alias(\"song_name\"),\n#     col(\"item.track.duration_ms\").alias(\"duration_ms\"),\n#     col(\"item.track.external_urls.spotify\").alias(\"url\"),\n#     col(\"item.track.popularity\").alias(\"popularity\"),\n#     col(\"item.added_at\").alias(\"song_added\"),\n#     col(\"item.track.album.id\").alias(\"album_id\"),\n#     col(\"item.track.artists\")[0][\"id\"].alias(\"artist_id\")\n# ).drop_duplicates(['song_id']).show()",
			"metadata": {
				"trusted": true,
				"tags": []
			},
			"execution_count": 28,
			"outputs": [
				{
					"name": "stdout",
					"text": "+--------------------+--------------------+-----------+--------------------+----------+--------------------+--------------------+--------------------+\n|             song_id|           song_name|duration_ms|                 url|popularity|          song_added|            album_id|           artist_id|\n+--------------------+--------------------+-----------+--------------------+----------+--------------------+--------------------+--------------------+\n|2E2znCPaS8anQe21G...|You Are So Beautiful|     176093|https://open.spot...|         0|2015-01-15T12:41:10Z|0ivM6kSawaug0j3tZ...|2KftmGt9sk1yLjsAo...|\n|4Cy0NHJ8Gh0xMdwyM...|          All I Want|     401440|https://open.spot...|        48|2015-01-15T12:22:30Z|4hnqM0JK4CM1phwfq...|066X20Nz7iquqkkCW...|\n|4rzfv0JLZfVhOhbSQ...|                 Api|     376000|https://open.spot...|         1|2015-01-15T12:39:22Z|2pANdqPvxInB0YvcD...|6eSdhw46riw2OUHgM...|\n|5o3jMYOSbaVz3tkgw...|                  Is|     730066|https://open.spot...|         0|2015-01-15T12:40:03Z|6nlfkk5GoXRL1nktl...|5VQE4WOzPu9h3HnGL...|\n|6hvFrZNocdt2FcKGC...|           Endpoints|     358760|https://open.spot...|         0|2015-01-15T12:40:35Z|2usKFntxa98WHMcyW...|272ArH9SUAlslQqsS...|\n+--------------------+--------------------+-----------+--------------------+----------+--------------------+--------------------+--------------------+\n",
					"output_type": "stream"
				}
			]
		},
		{
			"cell_type": "code",
			"source": "def process_albums(df):\n    df = df.withColumn(\"items\", explode(\"items\")).select(\n        col(\"items.track.album.id\").alias(\"album_id\"),\n        col(\"items.track.album.name\").alias(\"album_name\"),\n        col(\"items.track.album.release_date\").alias(\"release_date\"),\n        col(\"items.track.album.total_tracks\").alias(\"total_tracks\"),\n        col(\"items.track.album.external_urls.spotify\").alias(\"url\")\n    ).drop_duplicates(['album_id'])\n    return df\n\ndef process_artists(df):\n    df_items_exploded = df.select(explode(col(\"items\")).alias(\"item\"))\n    \n    df_artists_exploded = df_items_exploded.select(explode(col(\"item.track.artists\")).alias(\"artist\"))\n    \n    df_artists = df_artists_exploded.select(\n        col(\"artist.id\").alias(\"artist_id\"),\n        col(\"artist.name\").alias(\"artist_name\"),\n        col(\"artist.external_urls.spotify\").alias(\"url\")\n    ).drop_duplicates(['artist_id'])\n    \n    return df_artists\n\ndef process_songs(df):\n    df_exploded = df.select(explode(col(\"items\")).alias(\"item\"))\n    \n    df_songs = df_exploded.select(\n        col(\"item.track.id\").alias(\"song_id\"),\n        col(\"item.track.name\").alias(\"song_name\"),\n        col(\"item.track.duration_ms\").alias(\"duration_ms\"),\n        col(\"item.track.external_urls.spotify\").alias(\"url\"),\n        col(\"item.track.popularity\").alias(\"popularity\"),\n        col(\"item.added_at\").alias(\"song_added\"),\n        col(\"item.track.album.id\").alias(\"album_id\"),\n        col(\"item.track.artists\")[0][\"id\"].alias(\"artist_id\")\n    ).drop_duplicates(['song_id'])\n    \n    df_songs = df_songs.withColumn(\"song_added\", to_date(col(\"song_added\")))\n    \n    return df_songs",
			"metadata": {
				"trusted": true,
				"tags": []
			},
			"execution_count": 29,
			"outputs": [
				{
					"name": "stdout",
					"text": "\n",
					"output_type": "stream"
				}
			]
		},
		{
			"cell_type": "code",
			"source": "album_df = process_albums(spotify_df)\nalbum_df.show()",
			"metadata": {
				"trusted": true,
				"tags": []
			},
			"execution_count": 30,
			"outputs": [
				{
					"name": "stdout",
					"text": "+--------------------+--------------------+------------+------------+--------------------+\n|            album_id|          album_name|release_date|total_tracks|                 url|\n+--------------------+--------------------+------------+------------+--------------------+\n|0ivM6kSawaug0j3tZ...|All The Best (Spa...|  2007-01-01|          18|https://open.spot...|\n|2pANdqPvxInB0YvcD...|Progressive Psy T...|  2012-04-02|          20|https://open.spot...|\n|2usKFntxa98WHMcyW...|Glenn Horiuchi Tr...|  2011-04-01|           8|https://open.spot...|\n|4hnqM0JK4CM1phwfq...|   This Is Happening|  2010-05-17|           9|https://open.spot...|\n|6nlfkk5GoXRL1nktl...|Wellness & Dreami...|  2015-01-09|          25|https://open.spot...|\n+--------------------+--------------------+------------+------------+--------------------+\n",
					"output_type": "stream"
				}
			]
		},
		{
			"cell_type": "code",
			"source": "artist_df = process_artists(spotify_df)\nartist_df.show()",
			"metadata": {
				"trusted": true,
				"tags": []
			},
			"execution_count": 31,
			"outputs": [
				{
					"name": "stdout",
					"text": "+--------------------+-------------------+--------------------+\n|           artist_id|        artist_name|                 url|\n+--------------------+-------------------+--------------------+\n|066X20Nz7iquqkkCW...|    LCD Soundsystem|https://open.spot...|\n|272ArH9SUAlslQqsS...|Glenn Horiuchi Trio|https://open.spot...|\n|2KftmGt9sk1yLjsAo...|           Zucchero|https://open.spot...|\n|5VQE4WOzPu9h3HnGL...|       Vlasta Marek|https://open.spot...|\n|6eSdhw46riw2OUHgM...|             Odiseo|https://open.spot...|\n+--------------------+-------------------+--------------------+\n",
					"output_type": "stream"
				}
			]
		},
		{
			"cell_type": "code",
			"source": "songs_df = process_songs(spotify_df)\nsongs_df.show()",
			"metadata": {
				"trusted": true,
				"tags": []
			},
			"execution_count": 32,
			"outputs": [
				{
					"name": "stdout",
					"text": "+--------------------+--------------------+-----------+--------------------+----------+----------+--------------------+--------------------+\n|             song_id|           song_name|duration_ms|                 url|popularity|song_added|            album_id|           artist_id|\n+--------------------+--------------------+-----------+--------------------+----------+----------+--------------------+--------------------+\n|2E2znCPaS8anQe21G...|You Are So Beautiful|     176093|https://open.spot...|         0|2015-01-15|0ivM6kSawaug0j3tZ...|2KftmGt9sk1yLjsAo...|\n|4Cy0NHJ8Gh0xMdwyM...|          All I Want|     401440|https://open.spot...|        48|2015-01-15|4hnqM0JK4CM1phwfq...|066X20Nz7iquqkkCW...|\n|4rzfv0JLZfVhOhbSQ...|                 Api|     376000|https://open.spot...|         1|2015-01-15|2pANdqPvxInB0YvcD...|6eSdhw46riw2OUHgM...|\n|5o3jMYOSbaVz3tkgw...|                  Is|     730066|https://open.spot...|         0|2015-01-15|6nlfkk5GoXRL1nktl...|5VQE4WOzPu9h3HnGL...|\n|6hvFrZNocdt2FcKGC...|           Endpoints|     358760|https://open.spot...|         0|2015-01-15|2usKFntxa98WHMcyW...|272ArH9SUAlslQqsS...|\n+--------------------+--------------------+-----------+--------------------+----------+----------+--------------------+--------------------+\n",
					"output_type": "stream"
				}
			]
		},
		{
			"cell_type": "code",
			"source": "def write_to_s3(df, path_suffix, format_type = \"csv\"):\n    dynamic_frame = DynamicFrame.fromDF(df, glueContext, \"dynamic_frame\")\n    \n    glueContext.write_dynamic_frame.from_options(\n        frame = dynamic_frame,\n        connection_type = \"s3\",\n        connection_options = {\"path\": f\"s3://spotify-etl-pipeline-prudhvi/transformed_data/{path_suffix}/\"},\n        format = format_type\n    )",
			"metadata": {
				"trusted": true,
				"tags": []
			},
			"execution_count": 38,
			"outputs": [
				{
					"name": "stdout",
					"text": "\n",
					"output_type": "stream"
				}
			]
		},
		{
			"cell_type": "code",
			"source": "write_to_s3(album_df, \"album_data/album_transformed_{}\".format(datetime.now().strftime(\"%Y-%m-%d\")), 'csv')",
			"metadata": {
				"trusted": true,
				"tags": []
			},
			"execution_count": 39,
			"outputs": [
				{
					"name": "stdout",
					"text": "\n",
					"output_type": "stream"
				}
			]
		},
		{
			"cell_type": "code",
			"source": "write_to_s3(artist_df, \"artist_data/artist_transformed_{}\".format(datetime.now().strftime(\"%Y-%m-%d\")), 'csv')",
			"metadata": {
				"trusted": true,
				"tags": []
			},
			"execution_count": 41,
			"outputs": [
				{
					"name": "stdout",
					"text": "\n",
					"output_type": "stream"
				}
			]
		},
		{
			"cell_type": "code",
			"source": "write_to_s3(songs_df, \"songs_data/songs_transformed_{}\".format(datetime.now().strftime(\"%Y-%m-%d\")), 'csv')",
			"metadata": {
				"trusted": true,
				"tags": []
			},
			"execution_count": 43,
			"outputs": [
				{
					"name": "stdout",
					"text": "\n",
					"output_type": "stream"
				}
			]
		},
		{
			"cell_type": "code",
			"source": "",
			"metadata": {},
			"execution_count": null,
			"outputs": []
		}
	]
}
